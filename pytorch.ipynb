{
 "cells": [
  {
   "cell_type": "markdown",
   "metadata": {},
   "source": [
    "# Pytorch Tutorial"
   ]
  },
  {
   "cell_type": "markdown",
   "metadata": {},
   "source": [
    "Pytorch is a popular deep learning framework and it's easy to get started."
   ]
  },
  {
   "cell_type": "code",
   "execution_count": 5,
   "metadata": {},
   "outputs": [],
   "source": [
    "import torch\n",
    "import torch.nn as nn\n",
    "import torch.utils.data as data\n",
    "import torchvision\n",
    "import torchvision.transforms as transforms\n",
    "from tqdm import tqdm\n",
    "import time\n",
    "from torch.autograd import Variable\n",
    "\n",
    "BATCH_SIZE = 128\n",
    "NUM_EPOCHS = 10"
   ]
  },
  {
   "cell_type": "markdown",
   "metadata": {},
   "source": [
    "First, we read the mnist data, preprocess them and encapsulate them into dataloader form."
   ]
  },
  {
   "cell_type": "code",
   "execution_count": 6,
   "metadata": {},
   "outputs": [],
   "source": [
    "# preprocessing\n",
    "normalize = transforms.Normalize(mean=[.5], std=[.5])\n",
    "transform = transforms.Compose([transforms.ToTensor(), normalize])\n",
    "\n",
    "# download and load the data\n",
    "train_dataset = torchvision.datasets.MNIST(root='./mnist/', train=True, transform=transform, download=True)\n",
    "test_dataset = torchvision.datasets.MNIST(root='./mnist/', train=False, transform=transform, download=False)\n",
    "\n",
    "# encapsulate them into dataloader form\n",
    "train_loader = data.DataLoader(train_dataset, batch_size=BATCH_SIZE, shuffle=True, drop_last=True)\n",
    "test_loader = data.DataLoader(test_dataset, batch_size=BATCH_SIZE, shuffle=False, drop_last=True)"
   ]
  },
  {
   "cell_type": "markdown",
   "metadata": {},
   "source": [
    "Then, we define the model, object function and optimizer that we use to classify."
   ]
  },
  {
   "cell_type": "code",
   "execution_count": 7,
   "metadata": {},
   "outputs": [],
   "source": [
    "class SimpleNet(nn.Module):\n",
    "# TODO:define model\n",
    "    #A three-layer fully connected linear network is established with the nonlinear function ReLU and the batch standardization\n",
    "    def __init__(self, in_dim, n_hidden_1, n_hidden_2, out_dim):\n",
    "        super(SimpleNet, self).__init__()\n",
    "        self.layer1 = nn.Sequential(nn.Linear(in_dim,n_hidden_1),nn.BatchNorm1d(n_hidden_1),nn.ReLU(True))\n",
    "        self.layer2 = nn.Sequential(nn.Linear(n_hidden_1,n_hidden_2),nn.BatchNorm1d(n_hidden_2),nn.ReLU(True))\n",
    "        self.layer3 = nn.Sequential(nn.Linear(n_hidden_2,out_dim))\n",
    "        \n",
    "    def forward(self, x):\n",
    "        x = self.layer1(x)\n",
    "        x = self.layer2(x)\n",
    "        x = self.layer3(x)\n",
    "        return x\n",
    "    \n",
    "model = SimpleNet(28*28, 300, 100 ,10)\n",
    "\n",
    "# TODO:define loss function and optimiter\n",
    "criterion = nn.CrossEntropyLoss()\n",
    "optimizer = torch.optim.SGD(model.parameters(), lr=0.01)"
   ]
  },
  {
   "cell_type": "markdown",
   "metadata": {},
   "source": [
    "Next, we can start to train and evaluate!"
   ]
  },
  {
   "cell_type": "code",
   "execution_count": 8,
   "metadata": {
    "scrolled": true
   },
   "outputs": [
    {
     "name": "stderr",
     "output_type": "stream",
     "text": [
      "100%|████████████████████████████████████████████████████████████████████████████████| 468/468 [00:17<00:00, 27.13it/s]\n",
      "100%|████████████████████████████████████████████████████████████████████████████████| 468/468 [00:16<00:00, 27.74it/s]\n",
      "100%|████████████████████████████████████████████████████████████████████████████████| 468/468 [00:18<00:00, 25.95it/s]\n",
      "100%|████████████████████████████████████████████████████████████████████████████████| 468/468 [00:17<00:00, 27.31it/s]\n",
      "100%|████████████████████████████████████████████████████████████████████████████████| 468/468 [00:16<00:00, 28.00it/s]\n",
      "100%|████████████████████████████████████████████████████████████████████████████████| 468/468 [00:17<00:00, 28.98it/s]\n",
      "100%|████████████████████████████████████████████████████████████████████████████████| 468/468 [00:16<00:00, 28.71it/s]\n",
      "100%|████████████████████████████████████████████████████████████████████████████████| 468/468 [00:16<00:00, 28.39it/s]\n",
      "100%|████████████████████████████████████████████████████████████████████████████████| 468/468 [00:16<00:00, 28.31it/s]\n",
      "100%|████████████████████████████████████████████████████████████████████████████████| 468/468 [00:16<00:00, 28.87it/s]\n"
     ]
    }
   ],
   "source": [
    "# train and evaluate\n",
    "for epoch in range(NUM_EPOCHS):\n",
    "    train_loss = 0\n",
    "    train_accuracy = 0\n",
    "    for images, labels in tqdm(train_loader):\n",
    "        # TODO:forward + backward + optimize\n",
    "        images = Variable(images.view(images.size(0),-1))\n",
    "        labels = Variable(labels)\n",
    "        \n",
    "        out = model(images)\n",
    "        loss = criterion(out, labels)\n",
    "        \n",
    "        optimizer.zero_grad()\n",
    "        loss.backward()\n",
    "        optimizer.step()    \n",
    "        \n",
    "# evaluate\n",
    "# TODO:calculate the accuracy using traning and testing dataset\n",
    "model.eval()\n",
    "train_accuracy = 0\n",
    "test_accuracy = 0\n",
    "\n",
    "for data in train_loader:\n",
    "    images, labels = data\n",
    "    images = images.view(images.size(0), -1)\n",
    "    \n",
    "    #calculate the training accuracy\n",
    "    out = model(images)    \n",
    "    _, pred = torch.max(out, 1)\n",
    "    num_correct = (pred == labels).sum()\n",
    "    train_accuracy += num_correct.item() \n",
    "\n",
    "for data in test_loader:\n",
    "    images, labels = data\n",
    "    images = images.view(images.size(0), -1)\n",
    "\n",
    "    #predict and calculate the testing accuracy\n",
    "    out = model(images)  \n",
    "    _, pred = torch.max(out, 1)\n",
    "    num_correct = (pred == labels).sum()\n",
    "    test_accuracy += num_correct.item() "
   ]
  },
  {
   "cell_type": "markdown",
   "metadata": {},
   "source": [
    "#### Q5:\n",
    "Please print the training and testing accuracy."
   ]
  },
  {
   "cell_type": "code",
   "execution_count": 9,
   "metadata": {},
   "outputs": [
    {
     "name": "stdout",
     "output_type": "stream",
     "text": [
      "Training Accuracy: 98.88%, Testing Accuracy: 97.60%\n"
     ]
    }
   ],
   "source": [
    "#predict the training accuracy and testing accuracy\n",
    "print('Training Accuracy: {:.2f}%, Testing Accuracy: {:.2f}%'.format(train_accuracy*100 / (len(train_dataset)),test_accuracy*100 / (len(test_dataset))))"
   ]
  },
  {
   "cell_type": "code",
   "execution_count": null,
   "metadata": {},
   "outputs": [],
   "source": []
  }
 ],
 "metadata": {
  "kernelspec": {
   "display_name": "Python 3",
   "language": "python",
   "name": "python3"
  },
  "language_info": {
   "codemirror_mode": {
    "name": "ipython",
    "version": 3
   },
   "file_extension": ".py",
   "mimetype": "text/x-python",
   "name": "python",
   "nbconvert_exporter": "python",
   "pygments_lexer": "ipython3",
   "version": "3.7.0"
  }
 },
 "nbformat": 4,
 "nbformat_minor": 2
}
